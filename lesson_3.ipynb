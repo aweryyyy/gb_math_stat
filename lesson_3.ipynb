{
 "cells": [
  {
   "cell_type": "code",
   "execution_count": 18,
   "id": "007c80ff",
   "metadata": {},
   "outputs": [],
   "source": [
    "from matplotlib import pyplot as plt\n",
    "import pylab "
   ]
  },
  {
   "cell_type": "markdown",
   "id": "3f2d4560",
   "metadata": {},
   "source": [
    "Даны значения зарплат из выборки выпускников: 100, 80, 75, 77, 89, 33, 45, 25, 65, 17, 30, 24, 57, 55, 70, 75, 65, 84, 90, 150. Посчитать (желательно без использования статистических методов наподобие std, var, mean) среднее арифметическое, среднее квадратичное отклонение, смещенную и несмещенную оценки дисперсий для данной выборки. Сделать графическую интерпретацию данных, проанализовать выбросы, посчитать квартили и интерквартильное расстояние"
   ]
  },
  {
   "cell_type": "code",
   "execution_count": 31,
   "id": "ef11bb5a",
   "metadata": {},
   "outputs": [
    {
     "name": "stdout",
     "output_type": "stream",
     "text": [
      "65.3 среднее арифметическое\n",
      "950.11 несмещенную оценки дисперсий \n",
      "30.82 среднее квадратичное отклонение\n",
      "73.36 среднее арифметическое смещенное\n",
      "276.86 смещенная оценка дисперсии\n"
     ]
    },
    {
     "data": {
      "image/png": "[encoded data removed]",
      "text/plain": [
       "<Figure size 432x288 with 4 Axes>"
      ]
     },
     "metadata": {
      "needs_background": "light"
     },
     "output_type": "display_data"
    }
   ],
   "source": [
    "salary_list = [100, 80, 75, 77, 89, 33, 45, 25, 65, 17, 30, 24, 57, 55, 70, 75, 65, 84, 90, 150]\n",
    "\n",
    "salary_list.sort()\n",
    "\n",
    "pylab.subplot(2, 2, 1)\n",
    "plt.plot(salary_list)\n",
    "pylab.subplot(2, 2, 2)\n",
    "plt.hist(salary_list)\n",
    "\n",
    "\n",
    "def avg_c (list_in):\n",
    "    return sum(list_in) /  len(list_in)\n",
    "\n",
    "def disp_c (list_in):\n",
    "    disp_salary_calc = []\n",
    "    for element in list_in:\n",
    "        disp_salary_calc.append((element - avg_sal) ** 2)\n",
    "    return avg_c(disp_salary_calc)\n",
    "      \n",
    "    \n",
    "avg_sal = round(avg_c(salary_list), 2)\n",
    "\n",
    "disp_salary = round(disp_c(salary_list), 2)\n",
    "\n",
    "std_salary = round(disp_salary ** 0.5, 2)\n",
    "\n",
    "\n",
    "# среднее арифметическое\n",
    "print(avg_sal, 'среднее арифметическое') \n",
    "# несмещенную оценки дисперсий \n",
    "print(disp_salary, 'несмещенную оценки дисперсий ')\n",
    "# среднее квадратичное отклонение\n",
    "print(std_salary, 'среднее квадратичное отклонение')\n",
    "\n",
    "# сделаем выборку без выбросов (прибизимся к нормальному распределению, на графике видно выпод около 150 и выпад до 50)\n",
    "cleared_salary = []\n",
    "for element in salary_list:\n",
    "    if element >= 40 and element <= 100:\n",
    "        cleared_salary.append(element)\n",
    "\n",
    "pylab.subplot(2, 2, 3)\n",
    "plt.plot(cleared_salary)\n",
    "pylab.subplot(2, 2, 4)\n",
    "plt.hist(cleared_salary)\n",
    "\n",
    "# среднее арифметическое смещенное\n",
    "print(round(avg_c(cleared_salary), 2), 'среднее арифметическое смещенное')\n",
    "# смещенная оценка дисперсии\n",
    "print(round(disp_c(cleared_salary), 2), 'смещенная оценка дисперсии')\n",
    "\n",
    "\n",
    "\n"
   ]
  },
  {
   "cell_type": "markdown",
   "id": "2dc0d5ff",
   "metadata": {},
   "source": [
    "В первом ящике находится 8 мячей, из которых 5 - белые. Во втором ящике - 12 мячей, из которых 5 белых. Из первого ящика вытаскивают случайным образом два мяча, из второго - 4. Какова вероятность того, что 3 мяча белые?\n"
   ]
  },
  {
   "cell_type": "code",
   "execution_count": 8,
   "id": "b490ef83",
   "metadata": {},
   "outputs": [
    {
     "name": "stdout",
     "output_type": "stream",
     "text": [
      "0.36724386724386726 все мячи белые\n",
      "0.6327561327561327 все мячи чёрные\n",
      "0.058 половина - белые\n"
     ]
    }
   ],
   "source": [
    "\n",
    "print(5/8 * 4/7 + 5/12 * 4/11 * 3/10 * 2/9, 'все мячи белые')\n",
    "print(1 - (5/8 * 4/7 + 5/12 * 4/11 * 3/10 * 2/9), 'все мячи чёрные')\n",
    "\n",
    "print(round(((5/8 * 4/7 + 5/12 * 4/11 * 3/10 * 2/9) * 3/6) * ((1 - (5/8 * 4/7 + 5/12 * 4/11 * 3/10 * 2/9)) * 3/6), 3), 'половина - белые')"
   ]
  },
  {
   "cell_type": "markdown",
   "id": "4924cb58",
   "metadata": {},
   "source": [
    "В университет на факультеты A и B поступило равное количество студентов, а на факультет C студентов поступило столько же, сколько на A и B вместе. Вероятность того, что студент факультета A сдаст первую сессию, равна 0.8. Для студента факультета B эта вероятность равна 0.7, а для студента факультета C - 0.9. Студент сдал первую сессию. Какова вероятность, что он учится: a). на факультете A б). на факультете B в). на факультете C?\n"
   ]
  },
  {
   "cell_type": "code",
   "execution_count": 18,
   "id": "74be07b5",
   "metadata": {},
   "outputs": [
    {
     "name": "stdout",
     "output_type": "stream",
     "text": [
      "0.333 вероятность факультета А\n",
      "0.292 вероятность факультета B\n",
      "0.375 вероятность факультета C\n"
     ]
    }
   ],
   "source": [
    "print(round(0.8/(0.8+0.7+0.9),3), 'вероятность факультета А')\n",
    "print(round(0.7/(0.8+0.7+0.9),3), 'вероятность факультета B')\n",
    "print(round(0.9/(0.8+0.7+0.9),3), 'вероятность факультета C')"
   ]
  },
  {
   "cell_type": "markdown",
   "id": "f0ee77ab",
   "metadata": {},
   "source": [
    "Устройство состоит из трех деталей. Для первой детали вероятность выйти из строя в первый месяц равна 0.1, для второй - 0.2, для третьей - 0.25. Какова вероятность того, что в первый месяц выйдут из строя: а). все детали б). только две детали в). хотя бы одна деталь г). от одной до двух деталей?\n"
   ]
  },
  {
   "cell_type": "code",
   "execution_count": 40,
   "id": "8e3f8595",
   "metadata": {},
   "outputs": [
    {
     "name": "stdout",
     "output_type": "stream",
     "text": [
      "0.005 вероятность, что все детали выйдут из строя\n",
      "0.08 вероятность, что 2 детали выйдут из строя\n",
      "0.375 вероятность, что 1 деталь выйдет из строя\n",
      "0.295 вероятность, что от 1 до 2 деталей выйдет из строя\n"
     ]
    }
   ],
   "source": [
    "(a_p, b_p, c_p) = (0.1, 0.2, 0.25) # вероятности наступдения событий\n",
    "(a_p_r, b_p_r, c_p_r) = (1 - a_p, 1 - b_p, 1 - c_p) # вероятности не наступления событий\n",
    "\n",
    "\n",
    "print(round(a_p*b_p*c_p, 3),'вероятность, что все детали выйдут из строя')\n",
    "print(round(a_p*b_p*c_p_r + a_p*b_p_r*c_p + a_p_r*b_p*c_p, 3),'вероятность, что 2 детали выйдут из строя')\n",
    "print(round(a_p_r*b_p_r*c_p + a_p_r*b_p*c_p_r + a_p*b_p_r*c_p_r, 3),'вероятность, что 1 деталь выйдет из строя')\n",
    "print(round((a_p_r*b_p_r*c_p + a_p_r*b_p*c_p_r + a_p*b_p_r*c_p_r) - (a_p*b_p*c_p_r + a_p*b_p_r*c_p + a_p_r*b_p*c_p), 3),'вероятность, что от 1 до 2 деталей выйдет из строя')\n",
    "\n"
   ]
  }
 ],
 "metadata": {
  "kernelspec": {
   "display_name": "Python 3 (ipykernel)",
   "language": "python",
   "name": "python3"
  },
  "language_info": {
   "codemirror_mode": {
    "name": "ipython",
    "version": 3
   },
   "file_extension": ".py",
   "mimetype": "text/x-python",
   "name": "python",
   "nbconvert_exporter": "python",
   "pygments_lexer": "ipython3",
   "version": "3.9.12"
  }
 },
 "nbformat": 4,
 "nbformat_minor": 5
}

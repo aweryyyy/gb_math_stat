{
 "cells": [
  {
   "cell_type": "markdown",
   "id": "3ffeaed0",
   "metadata": {},
   "source": [
    "Известно, что генеральная совокупность распределена нормально\n",
    "со средним квадратическим отклонением, равным 16.\n",
    "Найти доверительный интервал для оценки математического ожидания a с надежностью 0.95,\n",
    "если выборочная средняя M = 80, а объем выборки n = 256."
   ]
  },
  {
   "cell_type": "code",
   "execution_count": 3,
   "id": "31274a14",
   "metadata": {},
   "outputs": [
    {
     "data": {
      "text/plain": [
       "(79.5, 80.5)"
      ]
     },
     "execution_count": 3,
     "metadata": {},
     "output_type": "execute_result"
    }
   ],
   "source": [
    "(80 - (2 * ((16/256) ** 0.5)), 80 + (2 * ((16/256) ** 0.5)))"
   ]
  },
  {
   "cell_type": "markdown",
   "id": "3a7becaa",
   "metadata": {},
   "source": [
    "В результате 10 независимых измерений некоторой величины X, выполненных с одинаковой точностью,\n",
    "получены опытные данные:\n",
    "6.9, 6.1, 6.2, 6.8, 7.5, 6.3, 6.4, 6.9, 6.7, 6.1\n",
    "Предполагая, что результаты измерений подчинены нормальному закону распределения вероятностей,\n",
    "оценить истинное значение величины X при помощи доверительного интервала, покрывающего это\n",
    "значение с доверительной вероятностью 0,95."
   ]
  },
  {
   "cell_type": "code",
   "execution_count": 6,
   "id": "97f54426",
   "metadata": {},
   "outputs": [
    {
     "data": {
      "text/plain": [
       "(6.542407721214465, 6.637592278785533)"
      ]
     },
     "execution_count": 6,
     "metadata": {},
     "output_type": "execute_result"
    }
   ],
   "source": [
    "X = [6.9, 6.1, 6.2, 6.8, 7.5, 6.3, 6.4, 6.9, 6.7, 6.1]\n",
    "\n",
    "n = len(X)\n",
    "X_mean = sum(X) / len(X)\n",
    "\n",
    "avg_sqrt_dev = []\n",
    "for element in X:\n",
    "    val = 0\n",
    "    if element - X_mean < 0:\n",
    "        val = (element - X_mean) * -1\n",
    "    avg_sqrt_dev.append(val ** 2)\n",
    "\n",
    "sqrt_dev_mean = sum(avg_sqrt_dev) / len(avg_sqrt_dev)\n",
    "\n",
    "\n",
    "(X_mean - (2 * (sqrt_dev_mean/len(X) ** 0.5)), X_mean + (2 * (sqrt_dev_mean/len(X) ** 0.5)))"
   ]
  },
  {
   "cell_type": "markdown",
   "id": "dacfdb30",
   "metadata": {},
   "source": [
    "Утверждается, что шарики для подшипников, изготовленные автоматическим станком, имеют средний диаметр 17 мм.\n",
    "Используя односторонний критерий с α=0,05, проверить эту гипотезу, если в выборке из n=100 шариков средний диаметр\n",
    "оказался равным 17.5 мм, а дисперсия известна и равна 4 мм."
   ]
  },
  {
   "cell_type": "code",
   "execution_count": 9,
   "id": "3eabf271",
   "metadata": {},
   "outputs": [
    {
     "data": {
      "text/plain": [
       "(16.97482, 18.02518)"
      ]
     },
     "execution_count": 9,
     "metadata": {},
     "output_type": "execute_result"
    }
   ],
   "source": [
    "# выборочное среднее = 17.5\n",
    "# квантиль = 2,6259\n",
    "\n",
    "(17.5 - (2.6259 * (2 / 10)), 17.5 + (2.6259 * (2 / 10)))\n",
    "\n",
    "# с вероятностью 95% средний размер шарика = 17  мм"
   ]
  },
  {
   "cell_type": "markdown",
   "id": "6e864ae6",
   "metadata": {},
   "source": [
    "Продавец утверждает, что средний вес пачки печенья составляет 200 г.\n",
    "Из партии извлечена выборка из 10 пачек. Вес каждой пачки составляет:\n",
    "202, 203, 199, 197, 195, 201, 200, 204, 194, 190.\n",
    "Известно, что их веса распределены нормально.\n",
    "Верно ли утверждение продавца, если учитывать, что доверительная вероятность равна 99%?"
   ]
  },
  {
   "cell_type": "code",
   "execution_count": 7,
   "id": "af9d4478",
   "metadata": {},
   "outputs": [
    {
     "data": {
      "text/plain": [
       "(188.34908871085952, 208.65091128914048)"
      ]
     },
     "execution_count": 7,
     "metadata": {},
     "output_type": "execute_result"
    }
   ],
   "source": [
    "X = [202, 203, 199, 197, 195, 201, 200, 204, 194, 190]\n",
    "\n",
    "n = len(X)\n",
    "X_mean = sum(X) / len(X)\n",
    "\n",
    "avg_sqrt_dev = []\n",
    "for element in X:\n",
    "    val = 0\n",
    "    if element - X_mean < 0:\n",
    "        val = (element - X_mean) * -1\n",
    "    avg_sqrt_dev.append(val ** 2)\n",
    "\n",
    "sqrt_dev_mean = sum(avg_sqrt_dev) / len(avg_sqrt_dev)\n",
    "\n",
    "\n",
    "(X_mean - (3 * (sqrt_dev_mean/len(X) ** 0.5)), X_mean + (3 * (sqrt_dev_mean/len(X) ** 0.5)))\n",
    "\n",
    "# Утверждение продавца верное, тк предполагаемая средняя величина входит в интервал разброса 99% выборки"
   ]
  }
 ],
 "metadata": {
  "kernelspec": {
   "display_name": "Python 3 (ipykernel)",
   "language": "python",
   "name": "python3"
  },
  "language_info": {
   "codemirror_mode": {
    "name": "ipython",
    "version": 3
   },
   "file_extension": ".py",
   "mimetype": "text/x-python",
   "name": "python",
   "nbconvert_exporter": "python",
   "pygments_lexer": "ipython3",
   "version": "3.9.12"
  }
 },
 "nbformat": 4,
 "nbformat_minor": 5
}

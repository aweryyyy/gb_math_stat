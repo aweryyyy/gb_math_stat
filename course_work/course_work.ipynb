{
 "cells": [
  {
   "cell_type": "markdown",
   "id": "b07b586e",
   "metadata": {},
   "source": [
    "Зачада курсового проекта:\n",
    "    Используя данные с платформы kaggle определить наличие или отсутствие зависимости расстояния между аэропортами вылета и прилёта и вероятнось задержки рейса.\n",
    "    А конкретно: чем больше расстояния между аэропортами - тем выше вероятность задержки.\n",
    "    данные: https://www.kaggle.com/datasets/jimschacko/airlines-dataset-to-predict-a-delay"
   ]
  },
  {
   "cell_type": "code",
   "execution_count": 1,
   "id": "c4ef819d",
   "metadata": {},
   "outputs": [],
   "source": [
    "from pandas import DataFrame, read_csv"
   ]
  },
  {
   "cell_type": "code",
   "execution_count": 2,
   "id": "69e4b589",
   "metadata": {},
   "outputs": [
    {
     "data": {
      "text/html": [
       "<div>\n",
       "<style scoped>\n",
       "    .dataframe tbody tr th:only-of-type {\n",
       "        vertical-align: middle;\n",
       "    }\n",
       "\n",
       "    .dataframe tbody tr th {\n",
       "        vertical-align: top;\n",
       "    }\n",
       "\n",
       "    .dataframe thead th {\n",
       "        text-align: right;\n",
       "    }\n",
       "</style>\n",
       "<table border=\"1\" class=\"dataframe\">\n",
       "  <thead>\n",
       "    <tr style=\"text-align: right;\">\n",
       "      <th></th>\n",
       "      <th>id</th>\n",
       "      <th>Airline</th>\n",
       "      <th>Flight</th>\n",
       "      <th>AirportFrom</th>\n",
       "      <th>AirportTo</th>\n",
       "      <th>DayOfWeek</th>\n",
       "      <th>Time</th>\n",
       "      <th>Length</th>\n",
       "      <th>Delay</th>\n",
       "    </tr>\n",
       "  </thead>\n",
       "  <tbody>\n",
       "    <tr>\n",
       "      <th>0</th>\n",
       "      <td>1</td>\n",
       "      <td>CO</td>\n",
       "      <td>269</td>\n",
       "      <td>SFO</td>\n",
       "      <td>IAH</td>\n",
       "      <td>3</td>\n",
       "      <td>15</td>\n",
       "      <td>205</td>\n",
       "      <td>1</td>\n",
       "    </tr>\n",
       "    <tr>\n",
       "      <th>1</th>\n",
       "      <td>2</td>\n",
       "      <td>US</td>\n",
       "      <td>1558</td>\n",
       "      <td>PHX</td>\n",
       "      <td>CLT</td>\n",
       "      <td>3</td>\n",
       "      <td>15</td>\n",
       "      <td>222</td>\n",
       "      <td>1</td>\n",
       "    </tr>\n",
       "    <tr>\n",
       "      <th>2</th>\n",
       "      <td>3</td>\n",
       "      <td>AA</td>\n",
       "      <td>2400</td>\n",
       "      <td>LAX</td>\n",
       "      <td>DFW</td>\n",
       "      <td>3</td>\n",
       "      <td>20</td>\n",
       "      <td>165</td>\n",
       "      <td>1</td>\n",
       "    </tr>\n",
       "    <tr>\n",
       "      <th>3</th>\n",
       "      <td>4</td>\n",
       "      <td>AA</td>\n",
       "      <td>2466</td>\n",
       "      <td>SFO</td>\n",
       "      <td>DFW</td>\n",
       "      <td>3</td>\n",
       "      <td>20</td>\n",
       "      <td>195</td>\n",
       "      <td>1</td>\n",
       "    </tr>\n",
       "    <tr>\n",
       "      <th>4</th>\n",
       "      <td>5</td>\n",
       "      <td>AS</td>\n",
       "      <td>108</td>\n",
       "      <td>ANC</td>\n",
       "      <td>SEA</td>\n",
       "      <td>3</td>\n",
       "      <td>30</td>\n",
       "      <td>202</td>\n",
       "      <td>0</td>\n",
       "    </tr>\n",
       "    <tr>\n",
       "      <th>5</th>\n",
       "      <td>6</td>\n",
       "      <td>CO</td>\n",
       "      <td>1094</td>\n",
       "      <td>LAX</td>\n",
       "      <td>IAH</td>\n",
       "      <td>3</td>\n",
       "      <td>30</td>\n",
       "      <td>181</td>\n",
       "      <td>1</td>\n",
       "    </tr>\n",
       "    <tr>\n",
       "      <th>6</th>\n",
       "      <td>7</td>\n",
       "      <td>DL</td>\n",
       "      <td>1768</td>\n",
       "      <td>LAX</td>\n",
       "      <td>MSP</td>\n",
       "      <td>3</td>\n",
       "      <td>30</td>\n",
       "      <td>220</td>\n",
       "      <td>0</td>\n",
       "    </tr>\n",
       "    <tr>\n",
       "      <th>7</th>\n",
       "      <td>8</td>\n",
       "      <td>DL</td>\n",
       "      <td>2722</td>\n",
       "      <td>PHX</td>\n",
       "      <td>DTW</td>\n",
       "      <td>3</td>\n",
       "      <td>30</td>\n",
       "      <td>228</td>\n",
       "      <td>0</td>\n",
       "    </tr>\n",
       "    <tr>\n",
       "      <th>8</th>\n",
       "      <td>9</td>\n",
       "      <td>DL</td>\n",
       "      <td>2606</td>\n",
       "      <td>SFO</td>\n",
       "      <td>MSP</td>\n",
       "      <td>3</td>\n",
       "      <td>35</td>\n",
       "      <td>216</td>\n",
       "      <td>1</td>\n",
       "    </tr>\n",
       "    <tr>\n",
       "      <th>9</th>\n",
       "      <td>10</td>\n",
       "      <td>AA</td>\n",
       "      <td>2538</td>\n",
       "      <td>LAS</td>\n",
       "      <td>ORD</td>\n",
       "      <td>3</td>\n",
       "      <td>40</td>\n",
       "      <td>200</td>\n",
       "      <td>1</td>\n",
       "    </tr>\n",
       "  </tbody>\n",
       "</table>\n",
       "</div>"
      ],
      "text/plain": [
       "   id Airline  Flight AirportFrom AirportTo  DayOfWeek  Time  Length  Delay\n",
       "0   1      CO     269         SFO       IAH          3    15     205      1\n",
       "1   2      US    1558         PHX       CLT          3    15     222      1\n",
       "2   3      AA    2400         LAX       DFW          3    20     165      1\n",
       "3   4      AA    2466         SFO       DFW          3    20     195      1\n",
       "4   5      AS     108         ANC       SEA          3    30     202      0\n",
       "5   6      CO    1094         LAX       IAH          3    30     181      1\n",
       "6   7      DL    1768         LAX       MSP          3    30     220      0\n",
       "7   8      DL    2722         PHX       DTW          3    30     228      0\n",
       "8   9      DL    2606         SFO       MSP          3    35     216      1\n",
       "9  10      AA    2538         LAS       ORD          3    40     200      1"
      ]
     },
     "execution_count": 2,
     "metadata": {},
     "output_type": "execute_result"
    }
   ],
   "source": [
    "dataset = read_csv('Airlines.csv')\n",
    "dataset.head(10)"
   ]
  },
  {
   "cell_type": "markdown",
   "id": "21ad9769",
   "metadata": {},
   "source": [
    "Проверим распределение расстояния (Length) на нормальность распределения:"
   ]
  },
  {
   "cell_type": "code",
   "execution_count": 3,
   "id": "833aef0e",
   "metadata": {},
   "outputs": [
    {
     "data": {
      "text/html": [
       "<div>\n",
       "<style scoped>\n",
       "    .dataframe tbody tr th:only-of-type {\n",
       "        vertical-align: middle;\n",
       "    }\n",
       "\n",
       "    .dataframe tbody tr th {\n",
       "        vertical-align: top;\n",
       "    }\n",
       "\n",
       "    .dataframe thead th {\n",
       "        text-align: right;\n",
       "    }\n",
       "</style>\n",
       "<table border=\"1\" class=\"dataframe\">\n",
       "  <thead>\n",
       "    <tr style=\"text-align: right;\">\n",
       "      <th></th>\n",
       "      <th>id</th>\n",
       "      <th>Flight</th>\n",
       "      <th>DayOfWeek</th>\n",
       "      <th>Time</th>\n",
       "      <th>Length</th>\n",
       "      <th>Delay</th>\n",
       "    </tr>\n",
       "  </thead>\n",
       "  <tbody>\n",
       "    <tr>\n",
       "      <th>count</th>\n",
       "      <td>539383.00000</td>\n",
       "      <td>539383.000000</td>\n",
       "      <td>539383.000000</td>\n",
       "      <td>539383.000000</td>\n",
       "      <td>539383.000000</td>\n",
       "      <td>539383.000000</td>\n",
       "    </tr>\n",
       "    <tr>\n",
       "      <th>mean</th>\n",
       "      <td>269692.00000</td>\n",
       "      <td>2427.928630</td>\n",
       "      <td>3.929668</td>\n",
       "      <td>802.728963</td>\n",
       "      <td>132.202007</td>\n",
       "      <td>0.445442</td>\n",
       "    </tr>\n",
       "    <tr>\n",
       "      <th>std</th>\n",
       "      <td>155706.60446</td>\n",
       "      <td>2067.429837</td>\n",
       "      <td>1.914664</td>\n",
       "      <td>278.045911</td>\n",
       "      <td>70.117016</td>\n",
       "      <td>0.497015</td>\n",
       "    </tr>\n",
       "    <tr>\n",
       "      <th>min</th>\n",
       "      <td>1.00000</td>\n",
       "      <td>1.000000</td>\n",
       "      <td>1.000000</td>\n",
       "      <td>10.000000</td>\n",
       "      <td>0.000000</td>\n",
       "      <td>0.000000</td>\n",
       "    </tr>\n",
       "    <tr>\n",
       "      <th>25%</th>\n",
       "      <td>134846.50000</td>\n",
       "      <td>712.000000</td>\n",
       "      <td>2.000000</td>\n",
       "      <td>565.000000</td>\n",
       "      <td>81.000000</td>\n",
       "      <td>0.000000</td>\n",
       "    </tr>\n",
       "    <tr>\n",
       "      <th>50%</th>\n",
       "      <td>269692.00000</td>\n",
       "      <td>1809.000000</td>\n",
       "      <td>4.000000</td>\n",
       "      <td>795.000000</td>\n",
       "      <td>115.000000</td>\n",
       "      <td>0.000000</td>\n",
       "    </tr>\n",
       "    <tr>\n",
       "      <th>75%</th>\n",
       "      <td>404537.50000</td>\n",
       "      <td>3745.000000</td>\n",
       "      <td>5.000000</td>\n",
       "      <td>1035.000000</td>\n",
       "      <td>162.000000</td>\n",
       "      <td>1.000000</td>\n",
       "    </tr>\n",
       "    <tr>\n",
       "      <th>max</th>\n",
       "      <td>539383.00000</td>\n",
       "      <td>7814.000000</td>\n",
       "      <td>7.000000</td>\n",
       "      <td>1439.000000</td>\n",
       "      <td>655.000000</td>\n",
       "      <td>1.000000</td>\n",
       "    </tr>\n",
       "  </tbody>\n",
       "</table>\n",
       "</div>"
      ],
      "text/plain": [
       "                 id         Flight      DayOfWeek           Time  \\\n",
       "count  539383.00000  539383.000000  539383.000000  539383.000000   \n",
       "mean   269692.00000    2427.928630       3.929668     802.728963   \n",
       "std    155706.60446    2067.429837       1.914664     278.045911   \n",
       "min         1.00000       1.000000       1.000000      10.000000   \n",
       "25%    134846.50000     712.000000       2.000000     565.000000   \n",
       "50%    269692.00000    1809.000000       4.000000     795.000000   \n",
       "75%    404537.50000    3745.000000       5.000000    1035.000000   \n",
       "max    539383.00000    7814.000000       7.000000    1439.000000   \n",
       "\n",
       "              Length          Delay  \n",
       "count  539383.000000  539383.000000  \n",
       "mean      132.202007       0.445442  \n",
       "std        70.117016       0.497015  \n",
       "min         0.000000       0.000000  \n",
       "25%        81.000000       0.000000  \n",
       "50%       115.000000       0.000000  \n",
       "75%       162.000000       1.000000  \n",
       "max       655.000000       1.000000  "
      ]
     },
     "execution_count": 3,
     "metadata": {},
     "output_type": "execute_result"
    }
   ],
   "source": [
    "dataset.describe()"
   ]
  },
  {
   "cell_type": "code",
   "execution_count": 4,
   "id": "8f8bcd34",
   "metadata": {},
   "outputs": [
    {
     "data": {
      "text/html": [
       "<div>\n",
       "<style scoped>\n",
       "    .dataframe tbody tr th:only-of-type {\n",
       "        vertical-align: middle;\n",
       "    }\n",
       "\n",
       "    .dataframe tbody tr th {\n",
       "        vertical-align: top;\n",
       "    }\n",
       "\n",
       "    .dataframe thead th {\n",
       "        text-align: right;\n",
       "    }\n",
       "</style>\n",
       "<table border=\"1\" class=\"dataframe\">\n",
       "  <thead>\n",
       "    <tr style=\"text-align: right;\">\n",
       "      <th></th>\n",
       "      <th>id</th>\n",
       "      <th>Airline</th>\n",
       "      <th>Flight</th>\n",
       "      <th>AirportFrom</th>\n",
       "      <th>AirportTo</th>\n",
       "      <th>DayOfWeek</th>\n",
       "      <th>Time</th>\n",
       "      <th>Length</th>\n",
       "      <th>Delay</th>\n",
       "    </tr>\n",
       "  </thead>\n",
       "  <tbody>\n",
       "    <tr>\n",
       "      <th>179149</th>\n",
       "      <td>179150</td>\n",
       "      <td>F9</td>\n",
       "      <td>106</td>\n",
       "      <td>DEN</td>\n",
       "      <td>MSP</td>\n",
       "      <td>6</td>\n",
       "      <td>635</td>\n",
       "      <td>0</td>\n",
       "      <td>0</td>\n",
       "    </tr>\n",
       "    <tr>\n",
       "      <th>182840</th>\n",
       "      <td>182841</td>\n",
       "      <td>F9</td>\n",
       "      <td>107</td>\n",
       "      <td>MSP</td>\n",
       "      <td>DEN</td>\n",
       "      <td>6</td>\n",
       "      <td>851</td>\n",
       "      <td>0</td>\n",
       "      <td>0</td>\n",
       "    </tr>\n",
       "    <tr>\n",
       "      <th>188953</th>\n",
       "      <td>188954</td>\n",
       "      <td>F9</td>\n",
       "      <td>103</td>\n",
       "      <td>MSP</td>\n",
       "      <td>DEN</td>\n",
       "      <td>7</td>\n",
       "      <td>375</td>\n",
       "      <td>0</td>\n",
       "      <td>0</td>\n",
       "    </tr>\n",
       "    <tr>\n",
       "      <th>445578</th>\n",
       "      <td>445579</td>\n",
       "      <td>B6</td>\n",
       "      <td>493</td>\n",
       "      <td>BOS</td>\n",
       "      <td>SEA</td>\n",
       "      <td>7</td>\n",
       "      <td>1060</td>\n",
       "      <td>0</td>\n",
       "      <td>1</td>\n",
       "    </tr>\n",
       "  </tbody>\n",
       "</table>\n",
       "</div>"
      ],
      "text/plain": [
       "            id Airline  Flight AirportFrom AirportTo  DayOfWeek  Time  Length  \\\n",
       "179149  179150      F9     106         DEN       MSP          6   635       0   \n",
       "182840  182841      F9     107         MSP       DEN          6   851       0   \n",
       "188953  188954      F9     103         MSP       DEN          7   375       0   \n",
       "445578  445579      B6     493         BOS       SEA          7  1060       0   \n",
       "\n",
       "        Delay  \n",
       "179149      0  \n",
       "182840      0  \n",
       "188953      0  \n",
       "445578      1  "
      ]
     },
     "execution_count": 4,
     "metadata": {},
     "output_type": "execute_result"
    }
   ],
   "source": [
    "# Явные выбросы с нулевым расстоянием убираем из выборки\n",
    "dataset[dataset['Length'] == 0]"
   ]
  },
  {
   "cell_type": "code",
   "execution_count": 5,
   "id": "86e77c99",
   "metadata": {},
   "outputs": [
    {
     "data": {
      "text/html": [
       "<div>\n",
       "<style scoped>\n",
       "    .dataframe tbody tr th:only-of-type {\n",
       "        vertical-align: middle;\n",
       "    }\n",
       "\n",
       "    .dataframe tbody tr th {\n",
       "        vertical-align: top;\n",
       "    }\n",
       "\n",
       "    .dataframe thead th {\n",
       "        text-align: right;\n",
       "    }\n",
       "</style>\n",
       "<table border=\"1\" class=\"dataframe\">\n",
       "  <thead>\n",
       "    <tr style=\"text-align: right;\">\n",
       "      <th></th>\n",
       "      <th>id</th>\n",
       "      <th>Airline</th>\n",
       "      <th>Flight</th>\n",
       "      <th>AirportFrom</th>\n",
       "      <th>AirportTo</th>\n",
       "      <th>DayOfWeek</th>\n",
       "      <th>Time</th>\n",
       "      <th>Length</th>\n",
       "      <th>Delay</th>\n",
       "    </tr>\n",
       "  </thead>\n",
       "  <tbody>\n",
       "  </tbody>\n",
       "</table>\n",
       "</div>"
      ],
      "text/plain": [
       "Empty DataFrame\n",
       "Columns: [id, Airline, Flight, AirportFrom, AirportTo, DayOfWeek, Time, Length, Delay]\n",
       "Index: []"
      ]
     },
     "execution_count": 5,
     "metadata": {},
     "output_type": "execute_result"
    }
   ],
   "source": [
    "dataset = dataset[dataset['Length'] > 0]\n",
    "dataset[dataset['Length'] == 0]"
   ]
  },
  {
   "cell_type": "code",
   "execution_count": 11,
   "id": "c430365c",
   "metadata": {},
   "outputs": [
    {
     "data": {
      "text/plain": [
       "(array([2.6360e+03, 1.1187e+04, 3.1355e+04, 4.8353e+04, 6.6029e+04,\n",
       "        4.7481e+04, 4.9851e+04, 4.3950e+04, 4.0277e+04, 3.1010e+04,\n",
       "        3.3456e+04, 2.4600e+04, 2.0781e+04, 1.2209e+04, 1.2336e+04,\n",
       "        9.2500e+03, 6.5610e+03, 8.5800e+03, 5.6420e+03, 5.2340e+03,\n",
       "        4.6860e+03, 3.3030e+03, 3.0610e+03, 3.9250e+03, 2.8900e+03,\n",
       "        2.7940e+03, 1.9070e+03, 2.0080e+03, 1.4940e+03, 1.1610e+03,\n",
       "        6.2400e+02, 1.1700e+02, 7.2000e+01, 1.8000e+01, 1.0500e+02,\n",
       "        1.7000e+01, 4.1000e+01, 2.4000e+01, 1.0900e+02, 6.8000e+01,\n",
       "        1.7000e+01, 3.7000e+01, 2.4000e+01, 3.1000e+01, 0.0000e+00,\n",
       "        0.0000e+00, 6.0000e+00, 3.1000e+01, 0.0000e+00, 3.1000e+01]),\n",
       " array([ 23.  ,  35.64,  48.28,  60.92,  73.56,  86.2 ,  98.84, 111.48,\n",
       "        124.12, 136.76, 149.4 , 162.04, 174.68, 187.32, 199.96, 212.6 ,\n",
       "        225.24, 237.88, 250.52, 263.16, 275.8 , 288.44, 301.08, 313.72,\n",
       "        326.36, 339.  , 351.64, 364.28, 376.92, 389.56, 402.2 , 414.84,\n",
       "        427.48, 440.12, 452.76, 465.4 , 478.04, 490.68, 503.32, 515.96,\n",
       "        528.6 , 541.24, 553.88, 566.52, 579.16, 591.8 , 604.44, 617.08,\n",
       "        629.72, 642.36, 655.  ]),\n",
       " <BarContainer object of 50 artists>)"
      ]
     },
     "execution_count": 11,
     "metadata": {},
     "output_type": "execute_result"
    },
    {
     "data": {
      "image/png": "[encoded data removed]",
      "text/plain": [
       "<Figure size 432x288 with 1 Axes>"
      ]
     },
     "metadata": {
      "needs_background": "light"
     },
     "output_type": "display_data"
    }
   ],
   "source": [
    "from matplotlib import pyplot as plt\n",
    "\n",
    "plt.hist(dataset['Length'], bins=50)\n",
    "# есть неравномерность колокола, однако, будем считать данное распределение относительно нормальным"
   ]
  },
  {
   "cell_type": "code",
   "execution_count": 12,
   "id": "609b1de0",
   "metadata": {},
   "outputs": [
    {
     "data": {
      "text/html": [
       "<div>\n",
       "<style scoped>\n",
       "    .dataframe tbody tr th:only-of-type {\n",
       "        vertical-align: middle;\n",
       "    }\n",
       "\n",
       "    .dataframe tbody tr th {\n",
       "        vertical-align: top;\n",
       "    }\n",
       "\n",
       "    .dataframe thead th {\n",
       "        text-align: right;\n",
       "    }\n",
       "</style>\n",
       "<table border=\"1\" class=\"dataframe\">\n",
       "  <thead>\n",
       "    <tr style=\"text-align: right;\">\n",
       "      <th></th>\n",
       "      <th>Length</th>\n",
       "    </tr>\n",
       "    <tr>\n",
       "      <th>Delay</th>\n",
       "      <th></th>\n",
       "    </tr>\n",
       "  </thead>\n",
       "  <tbody>\n",
       "    <tr>\n",
       "      <th>0</th>\n",
       "      <td>129.658895</td>\n",
       "    </tr>\n",
       "    <tr>\n",
       "      <th>1</th>\n",
       "      <td>135.370261</td>\n",
       "    </tr>\n",
       "  </tbody>\n",
       "</table>\n",
       "</div>"
      ],
      "text/plain": [
       "           Length\n",
       "Delay            \n",
       "0      129.658895\n",
       "1      135.370261"
      ]
     },
     "execution_count": 12,
     "metadata": {},
     "output_type": "execute_result"
    }
   ],
   "source": [
    "# используя группировку по параметру Delay проверим среднее расстояние относительно задерживания рейса:\n",
    "dataset[['Length','Delay']].groupby(by=['Delay']).mean()"
   ]
  },
  {
   "cell_type": "markdown",
   "id": "f0e875c1",
   "metadata": {},
   "source": [
    "как видно, среднее расстояние отличается, переходим к проверке гипотезы:\n",
    "    \n",
    "    нулевая гипотеза: чем более параметр Length - тем выше вероятность Delay быть равным 1\n",
    "    \n",
    "    альтернативная гипотеза: вероятность Delay не зависит от Length"
   ]
  },
  {
   "cell_type": "code",
   "execution_count": 21,
   "id": "bba1126d",
   "metadata": {},
   "outputs": [],
   "source": [
    "import numpy as np\n",
    "from scipy import stats"
   ]
  },
  {
   "cell_type": "code",
   "execution_count": 60,
   "id": "dbeb5083",
   "metadata": {},
   "outputs": [],
   "source": [
    "# используя дисперсионный анализ для проверки 2 групп выборок, найдем зависимость \n",
    "# (дисперсия для задержанных рейсов и для незадержанных)\n",
    "\n",
    "# отбираем группы задержанных и незадержанных рейсов\n",
    "y1 = dataset[dataset['Delay'] == 1]['Length']\n",
    "y2 = dataset[dataset['Delay'] == 0]['Length']\n",
    "\n",
    "# считаем количество испытаний\n",
    "n1 = y1.shape[0]\n",
    "n2 = y2.shape[0]"
   ]
  },
  {
   "cell_type": "code",
   "execution_count": 61,
   "id": "08952781",
   "metadata": {},
   "outputs": [
    {
     "data": {
      "text/plain": [
       "(135.37026092240586, 129.65889487690396)"
      ]
     },
     "execution_count": 61,
     "metadata": {},
     "output_type": "execute_result"
    }
   ],
   "source": [
    "# считаем средние значения по каждой выборке\n",
    "y1_mean = y1.mean()\n",
    "y2_mean = y2.mean()\n",
    "\n",
    "y1_mean, y2_mean\n",
    "# значения отличаются -> есть вероятность, что влияние фактора присутсвует"
   ]
  },
  {
   "cell_type": "code",
   "execution_count": 75,
   "id": "e34eecc9",
   "metadata": {},
   "outputs": [
    {
     "name": "stdout",
     "output_type": "stream",
     "text": [
      "132.20298713891344 [205 222 165 ... 326 305 255]\n"
     ]
    }
   ],
   "source": [
    "# склеиваем факторы и считаем общую среднюю\n",
    "y = np.concatenate([y1, y2])\n",
    "y_mean = y.mean()\n",
    "print(y_mean, y)"
   ]
  },
  {
   "cell_type": "code",
   "execution_count": 65,
   "id": "738edc2e",
   "metadata": {},
   "outputs": [
    {
     "data": {
      "text/plain": [
       "(4346227.914488476, 2647399302.632634)"
      ]
     },
     "execution_count": 65,
     "metadata": {},
     "output_type": "execute_result"
    }
   ],
   "source": [
    "# считаем сумму квадратов отклонений средних групповых значений от общего среднего значения\n",
    "S2_F = n1 * (y1_mean - y_mean) ** 2 + n2 * (y2_mean - y_mean) ** 2 \n",
    "\n",
    "# считаем остаточную сумму квадратов отклонений\n",
    "S2_res = ((y1 - y1_mean) ** 2).sum() + ((y2 - y2_mean) ** 2).sum()\n",
    "\n",
    "S2_F, S2_res"
   ]
  },
  {
   "cell_type": "code",
   "execution_count": 69,
   "id": "c0cfada2",
   "metadata": {},
   "outputs": [
    {
     "data": {
      "text/plain": [
       "True"
      ]
     },
     "execution_count": 69,
     "metadata": {},
     "output_type": "execute_result"
    }
   ],
   "source": [
    "# выполняем проверку на равенство с общей выборкой\n",
    "round(S2_F + S2_res, 4) == round(((y - y_mean) ** 2).sum(), 4)\n",
    "# разница после 4 знаков не играет большой роли, поскольку присутствует ошибка округления при рассчётах"
   ]
  },
  {
   "cell_type": "code",
   "execution_count": 71,
   "id": "f9ee43e5",
   "metadata": {},
   "outputs": [
    {
     "data": {
      "text/plain": [
       "(2173113.957244238, 4908.263071832329)"
      ]
     },
     "execution_count": 71,
     "metadata": {},
     "output_type": "execute_result"
    }
   ],
   "source": [
    "# вычисляем несмещенные оценки дисперсий\n",
    "k = 3\n",
    "n = n1 + n2\n",
    "\n",
    "k1 = k - 1\n",
    "k2 = n - k\n",
    "\n",
    "sigma2_F = S2_F / k1\n",
    "sigma2_res = S2_res / k2\n",
    "\n",
    "sigma2_F, sigma2_res"
   ]
  },
  {
   "cell_type": "code",
   "execution_count": 72,
   "id": "531e04b3",
   "metadata": {},
   "outputs": [
    {
     "data": {
      "text/plain": [
       "442.74602347933677"
      ]
     },
     "execution_count": 72,
     "metadata": {},
     "output_type": "execute_result"
    }
   ],
   "source": [
    "# считаем статистику\n",
    "T = sigma2_F / sigma2_res\n",
    "T"
   ]
  },
  {
   "cell_type": "code",
   "execution_count": 77,
   "id": "6a6416e7",
   "metadata": {},
   "outputs": [
    {
     "data": {
      "text/plain": [
       "2.9957489121203706"
      ]
     },
     "execution_count": 77,
     "metadata": {},
     "output_type": "execute_result"
    }
   ],
   "source": [
    "# найдём Fcrit с уровнем значисмости a = 0.05\n",
    "from scipy import stats\n",
    "\n",
    "alpha = 0.05\n",
    "\n",
    "F_crit = stats.f.ppf(1 - alpha, k1, k2)\n",
    "F_crit"
   ]
  },
  {
   "cell_type": "markdown",
   "id": "4ecce128",
   "metadata": {},
   "source": [
    "Вывод: \n",
    "        влияение расстояние на вероятность задержки рейса подтверждается статистикой (442.75 > 3)."
   ]
  }
 ],
 "metadata": {
  "kernelspec": {
   "display_name": "Python 3 (ipykernel)",
   "language": "python",
   "name": "python3"
  },
  "language_info": {
   "codemirror_mode": {
    "name": "ipython",
    "version": 3
   },
   "file_extension": ".py",
   "mimetype": "text/x-python",
   "name": "python",
   "nbconvert_exporter": "python",
   "pygments_lexer": "ipython3",
   "version": "3.9.12"
  }
 },
 "nbformat": 4,
 "nbformat_minor": 5
}

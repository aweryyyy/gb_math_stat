{
 "cells": [
  {
   "cell_type": "code",
   "execution_count": 5,
   "id": "7389e559",
   "metadata": {},
   "outputs": [],
   "source": [
    "from math import factorial"
   ]
  },
  {
   "cell_type": "markdown",
   "id": "ac15f972",
   "metadata": {},
   "source": [
    "Из колоды в 52 карты извлекаются случайным образом 4 карты. \n",
    "\n",
    "a) Найти вероятность того, что все карты – крести. \n",
    "\n",
    "б) Найти вероятность, что среди 4-х карт окажется хотя бы один туз."
   ]
  },
  {
   "cell_type": "code",
   "execution_count": 30,
   "id": "de18e334",
   "metadata": {},
   "outputs": [],
   "source": [
    "def combinations(n, k):\n",
    "    return int(factorial(n) / (factorial(k) * factorial(n - k)))"
   ]
  },
  {
   "cell_type": "code",
   "execution_count": 54,
   "id": "85ee7196",
   "metadata": {},
   "outputs": [
    {
     "data": {
      "text/plain": [
       "0.281"
      ]
     },
     "execution_count": 54,
     "metadata": {},
     "output_type": "execute_result"
    }
   ],
   "source": [
    "# ответ а: вероятность наступления события - все карты крести из 4 возможных карт\n",
    "round(combinations(13, 4) / combinations(52, 4), 3)\n",
    "\n",
    "# отвт б: веротность вытащить хотя бы одного туза из колоды (48 тк считаем вероятность комбинации без всех тузов)\n",
    "round(1 - (combinations(48, 4) / combinations(52, 4)), 3)\n"
   ]
  },
  {
   "cell_type": "markdown",
   "id": "564ba917",
   "metadata": {},
   "source": [
    "На входной двери подъезда установлен кодовый замок, содержащий десять кнопок с цифрами от 0 до 9. Код содержит три цифры, которые нужно нажать одновременно. Какова вероятность того, что человек, не знающий код, откроет дверь с первой попытки?\n"
   ]
  },
  {
   "cell_type": "code",
   "execution_count": 56,
   "id": "b37767fe",
   "metadata": {},
   "outputs": [
    {
     "data": {
      "text/plain": [
       "0.008"
      ]
     },
     "execution_count": 56,
     "metadata": {},
     "output_type": "execute_result"
    }
   ],
   "source": [
    "round(1 / combinations(10, 3), 3)"
   ]
  },
  {
   "cell_type": "markdown",
   "id": "3a3b14a0",
   "metadata": {},
   "source": [
    "В ящике имеется 15 деталей, из которых 9 окрашены. Рабочий случайным образом извлекает 3 детали. Какова вероятность того, что все извлеченные детали окрашены?\n"
   ]
  },
  {
   "cell_type": "code",
   "execution_count": 57,
   "id": "46b94b0b",
   "metadata": {},
   "outputs": [
    {
     "data": {
      "text/plain": [
       "0.185"
      ]
     },
     "execution_count": 57,
     "metadata": {},
     "output_type": "execute_result"
    }
   ],
   "source": [
    "round(combinations(9, 3) / combinations(15, 3), 3)"
   ]
  },
  {
   "cell_type": "markdown",
   "id": "9f1ce87c",
   "metadata": {},
   "source": [
    "В лотерее 100 билетов. Из них 2 выигрышных. Какова вероятность того, что 2 приобретенных билета окажутся выигрышными?\n"
   ]
  },
  {
   "cell_type": "code",
   "execution_count": 58,
   "id": "8e67a8b5",
   "metadata": {},
   "outputs": [
    {
     "data": {
      "text/plain": [
       "0.04"
      ]
     },
     "execution_count": 58,
     "metadata": {},
     "output_type": "execute_result"
    }
   ],
   "source": [
    "round(1 - (combinations(98, 2) / combinations(100, 2)), 3)"
   ]
  },
  {
   "cell_type": "markdown",
   "id": "2cf85cc2",
   "metadata": {},
   "source": [
    "На соревновании по биатлону один из трех спортсменов стреляет и попадает в мишень. \n",
    "\n",
    "Вероятность попадания для первого спортсмена равна 0.9, для второго — 0.8, для третьего — 0.6. \n",
    "\n",
    "Найти вероятность того, что выстрел произведен: \n",
    "a). первым спортсменом \n",
    "б). вторым спортсменом \n",
    "в). третьим спортсменом."
   ]
  },
  {
   "cell_type": "code",
   "execution_count": 13,
   "id": "6a432926",
   "metadata": {},
   "outputs": [
    {
     "data": {
      "text/plain": [
       "(0.072, 0.032, 0.012)"
      ]
     },
     "execution_count": 13,
     "metadata": {},
     "output_type": "execute_result"
    }
   ],
   "source": [
    "# для любого варианта необходимо посчитать полную вероятность, то есть:\n",
    "#     если выстрелил первый спортсмен и попал, второй и третий должны промазать\n",
    "\n",
    "p_first_shooter = 0.9 * (1 - 0.8) * (1 - 0.6)\n",
    "p_second_shooter = (1 - 0.9) * 0.8 * (1 - 0.6)\n",
    "p_third_shooter = (1 - 0.9) * (1 - 0.8) * 0.6\n",
    "\n",
    "round(p_first_shooter, 3), round(p_second_shooter, 3), round(p_third_shooter, 3)"
   ]
  }
 ],
 "metadata": {
  "kernelspec": {
   "display_name": "Python 3 (ipykernel)",
   "language": "python",
   "name": "python3"
  },
  "language_info": {
   "codemirror_mode": {
    "name": "ipython",
    "version": 3
   },
   "file_extension": ".py",
   "mimetype": "text/x-python",
   "name": "python",
   "nbconvert_exporter": "python",
   "pygments_lexer": "ipython3",
   "version": "3.9.12"
  }
 },
 "nbformat": 4,
 "nbformat_minor": 5
}

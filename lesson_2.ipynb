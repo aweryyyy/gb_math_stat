{
 "cells": [
  {
   "cell_type": "code",
   "execution_count": 24,
   "id": "474a55a0",
   "metadata": {},
   "outputs": [],
   "source": [
    "from math import factorial as fc\n",
    "\n",
    "def combinations(n, k):\n",
    "    return int(factorial(n) / (factorial(k) * factorial(n - k)))"
   ]
  },
  {
   "cell_type": "markdown",
   "id": "ec272bee",
   "metadata": {},
   "source": [
    "Вероятность того, что стрелок попадет в мишень, выстрелив один раз, равна 0.8. Стрелок выстрелил 100 раз. Найдите вероятность того, что стрелок попадет в цель ровно 85 раз.\n"
   ]
  },
  {
   "cell_type": "code",
   "execution_count": 40,
   "id": "396dff4f",
   "metadata": {},
   "outputs": [
    {
     "data": {
      "text/plain": [
       "0.048"
      ]
     },
     "execution_count": 40,
     "metadata": {},
     "output_type": "execute_result"
    }
   ],
   "source": [
    "# используем формулу Бернулли\n",
    "round(combinations(100, 85) * (0.8 ** 85) * (1 - 0.8) ** (100 - 85), 3)\n"
   ]
  },
  {
   "cell_type": "markdown",
   "id": "89d24eee",
   "metadata": {},
   "source": [
    "Вероятность того, что лампочка перегорит в течение первого дня эксплуатации, равна 0.0004. В жилом комплексе после ремонта в один день включили 5000 новых лампочек. Какова вероятность, что ни одна из них не перегорит в первый день? Какова вероятность, что перегорят ровно две?\n"
   ]
  },
  {
   "cell_type": "code",
   "execution_count": 42,
   "id": "1316ce7f",
   "metadata": {},
   "outputs": [
    {
     "name": "stdout",
     "output_type": "stream",
     "text": [
      "0.135\n",
      "0.271\n"
     ]
    }
   ],
   "source": [
    "print(round(combinations(5000, 0) * (0.0004 ** 0) * (1 - 0.0004) ** (5000 - 0), 3))\n",
    "print(round(combinations(5000, 2) * (0.0004 ** 2) * (1 - 0.0004) ** (5000 - 2), 3))"
   ]
  },
  {
   "cell_type": "markdown",
   "id": "cf813b85",
   "metadata": {},
   "source": [
    "Монету подбросили 144 раза. Какова вероятность, что орел выпадет ровно 70 раз?\n"
   ]
  },
  {
   "cell_type": "code",
   "execution_count": 43,
   "id": "eceea517",
   "metadata": {},
   "outputs": [
    {
     "name": "stdout",
     "output_type": "stream",
     "text": [
      "0.063\n"
     ]
    }
   ],
   "source": [
    "print(round(combinations(144, 70) * (0.5 ** 70) * (1 - 0.5) ** (144 - 70), 3))"
   ]
  },
  {
   "cell_type": "markdown",
   "id": "564c527a",
   "metadata": {},
   "source": [
    "В первом ящике находится 10 мячей, из которых 7 - белые. Во втором ящике - 11 мячей, из которых 9 белых. Из каждого ящика вытаскивают случайным образом по два мяча. Какова вероятность того, что все мячи белые? Какова вероятность того, что ровно два мяча белые? Какова вероятность того, что хотя бы один мяч белый?\n"
   ]
  },
  {
   "cell_type": "code",
   "execution_count": 59,
   "id": "b1967507",
   "metadata": {},
   "outputs": [
    {
     "name": "stdout",
     "output_type": "stream",
     "text": [
      "0.32801652892561983\n",
      "0.16549586776859504\n",
      "0.08274793388429752\n"
     ]
    }
   ],
   "source": [
    "# вероятность белого мяча из 1 ящика\n",
    "p_first_box = 7 / 10\n",
    "\n",
    "# вероятность белого мяча из 2 ящика\n",
    "p_second_box = 9 / 11\n",
    "\n",
    "# все мячи белые\n",
    "print(p_first_box ** 2 * p_second_box ** 2)\n",
    "\n",
    "# два мяча белые\n",
    "print(((2 / 4) * (p_first_box ** 2 * p_second_box ** 2)) + ((2 / 4) * ((1 - p_first_box) ** 2 * (1 - p_second_box) ** 2)))\n",
    "\n",
    "# один мяч белый\n",
    "print(((1 / 4) * (p_first_box ** 2 * p_second_box ** 2)) + ((1 / 4) * ((1 - p_first_box) ** 2 * (1 - p_second_box) ** 2)))"
   ]
  }
 ],
 "metadata": {
  "kernelspec": {
   "display_name": "Python 3 (ipykernel)",
   "language": "python",
   "name": "python3"
  },
  "language_info": {
   "codemirror_mode": {
    "name": "ipython",
    "version": 3
   },
   "file_extension": ".py",
   "mimetype": "text/x-python",
   "name": "python",
   "nbconvert_exporter": "python",
   "pygments_lexer": "ipython3",
   "version": "3.9.12"
  }
 },
 "nbformat": 4,
 "nbformat_minor": 5
}

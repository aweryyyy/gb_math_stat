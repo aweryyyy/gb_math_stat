{
 "cells": [
  {
   "cell_type": "markdown",
   "id": "0f158fe8",
   "metadata": {},
   "source": [
    "Даны значения величины заработной платы заемщиков банка (zp) и значения их поведенческого кредитного скоринга (ks):\n",
    "zp = [35, 45, 190, 200, 40, 70, 54, 150, 120, 110],\n",
    "ks = [401, 574, 874, 919, 459, 739, 653, 902, 746, 832].\n",
    "Найдите ковариацию этих двух величин с помощью элементарных действий, а затем с помощью функции cov из numpy\n",
    "Полученные значения должны быть равны.\n",
    "Найдите коэффициент корреляции Пирсона с помощью ковариации и среднеквадратичных отклонений двух признаков,\n",
    "а затем с использованием функций из библиотек numpy и pandas."
   ]
  },
  {
   "cell_type": "code",
   "execution_count": 36,
   "id": "3a36f6af",
   "metadata": {},
   "outputs": [
    {
     "name": "stdout",
     "output_type": "stream",
     "text": [
      "10175.377777777778\n",
      "10175.377777777778\n",
      "              zp            ks\n",
      "zp   3882.933333  10175.377778\n",
      "ks  10175.377778  33854.322222\n",
      "         zp       ks\n",
      "zp  1.00000  0.88749\n",
      "ks  0.88749  1.00000\n",
      "0.8874900920739162\n"
     ]
    }
   ],
   "source": [
    "from pandas import DataFrame\n",
    "from numpy import cov\n",
    "\n",
    "dataset = DataFrame({'zp': [35, 45, 190, 200, 40, 70, 54, 150, 120, 110],\n",
    "                     'ks': [401, 574, 874, 919, 459, 739, 653, 902, 746, 832]})\n",
    "\n",
    "# формула 1\n",
    "# print(((dataset['zp'] * dataset['ks']) - (dataset['zp'].mean() * dataset['ks'].mean())).mean())\n",
    "# формула 2\n",
    "coef_covar = sum((dataset['zp'] - dataset['zp'].mean()) * (dataset['ks'] - dataset['ks'].mean())) / (dataset.shape[0] - 1)\n",
    "print(coef_covar)\n",
    "# numpy\n",
    "print(cov(dataset['zp'], dataset['ks'])[0,1])\n",
    "# pandas\n",
    "print(dataset.cov())\n",
    "\n",
    "# corr\n",
    "\n",
    "print(dataset.corr())\n",
    "\n",
    "print(coef_covar / (dataset['zp'].std() * dataset['ks'].std()))\n"
   ]
  },
  {
   "cell_type": "markdown",
   "id": "893429fe",
   "metadata": {},
   "source": [
    "Измерены значения IQ выборки студентов,\n",
    "обучающихся в местных технических вузах:\n",
    "131, 125, 115, 122, 131, 115, 107, 99, 125, 111.\n",
    "Известно, что в генеральной совокупности IQ распределен нормально.\n",
    "Найдите доверительный интервал для математического ожидания с надежностью 0.95."
   ]
  },
  {
   "cell_type": "code",
   "execution_count": 41,
   "id": "89a72778",
   "metadata": {},
   "outputs": [
    {
     "data": {
      "text/plain": [
       "(111.22686388902416, 124.97313611097583)"
      ]
     },
     "execution_count": 41,
     "metadata": {},
     "output_type": "execute_result"
    }
   ],
   "source": [
    "iq = [131, 125, 115, 122, 131, 115, 107, 99, 125, 111]\n",
    "\n",
    "avg_iq = sum(iq) / len(iq)\n",
    "\n",
    "((avg_iq - (2 * (avg_iq / len(iq)) ** 0.5)), (avg_iq + (2 * (avg_iq / len(iq)) ** 0.5)))"
   ]
  },
  {
   "cell_type": "markdown",
   "id": "b59d822a",
   "metadata": {},
   "source": [
    "Известно, что рост футболистов в сборной распределен нормально\n",
    "с дисперсией генеральной совокупности, равной 25 кв.см. Объем выборки равен 27,\n",
    "среднее выборочное составляет 174.2. Найдите доверительный интервал для математического\n",
    "ожидания с надежностью 0.95."
   ]
  },
  {
   "cell_type": "code",
   "execution_count": 43,
   "id": "39c2a28a",
   "metadata": {},
   "outputs": [
    {
     "data": {
      "text/plain": [
       "(169.11990084669526, 179.28009915330472)"
      ]
     },
     "execution_count": 43,
     "metadata": {},
     "output_type": "execute_result"
    }
   ],
   "source": [
    "((174.2 - (2 * (174.2 / 27) ** 0.5)), (174.2 + (2 * (174.2 / 27) ** 0.5)))"
   ]
  },
  {
   "cell_type": "markdown",
   "id": "78119f23",
   "metadata": {},
   "source": [
    "Выберите тему для проектной работы по курсу Теории вероятностей и математической статистики\n",
    "и напишите ее в комментарии к Практическому заданию."
   ]
  },
  {
   "cell_type": "code",
   "execution_count": 63,
   "id": "e9fe28e5",
   "metadata": {},
   "outputs": [
    {
     "data": {
      "text/html": [
       "<div>\n",
       "<style scoped>\n",
       "    .dataframe tbody tr th:only-of-type {\n",
       "        vertical-align: middle;\n",
       "    }\n",
       "\n",
       "    .dataframe tbody tr th {\n",
       "        vertical-align: top;\n",
       "    }\n",
       "\n",
       "    .dataframe thead th {\n",
       "        text-align: right;\n",
       "    }\n",
       "</style>\n",
       "<table border=\"1\" class=\"dataframe\">\n",
       "  <thead>\n",
       "    <tr style=\"text-align: right;\">\n",
       "      <th></th>\n",
       "      <th>movie_title</th>\n",
       "      <th>release_date</th>\n",
       "      <th>genre</th>\n",
       "      <th>mpaa_rating</th>\n",
       "      <th>total_gross</th>\n",
       "      <th>inflation_adjusted_gross</th>\n",
       "    </tr>\n",
       "  </thead>\n",
       "  <tbody>\n",
       "    <tr>\n",
       "      <th>0</th>\n",
       "      <td>Snow White and the Seven Dwarfs</td>\n",
       "      <td>1937-12-21</td>\n",
       "      <td>Musical</td>\n",
       "      <td>G</td>\n",
       "      <td>184925485</td>\n",
       "      <td>5228953251</td>\n",
       "    </tr>\n",
       "    <tr>\n",
       "      <th>1</th>\n",
       "      <td>Pinocchio</td>\n",
       "      <td>1940-02-09</td>\n",
       "      <td>Adventure</td>\n",
       "      <td>G</td>\n",
       "      <td>84300000</td>\n",
       "      <td>2188229052</td>\n",
       "    </tr>\n",
       "    <tr>\n",
       "      <th>2</th>\n",
       "      <td>Fantasia</td>\n",
       "      <td>1940-11-13</td>\n",
       "      <td>Musical</td>\n",
       "      <td>G</td>\n",
       "      <td>83320000</td>\n",
       "      <td>2187090808</td>\n",
       "    </tr>\n",
       "    <tr>\n",
       "      <th>3</th>\n",
       "      <td>Song of the South</td>\n",
       "      <td>1946-11-12</td>\n",
       "      <td>Adventure</td>\n",
       "      <td>G</td>\n",
       "      <td>65000000</td>\n",
       "      <td>1078510579</td>\n",
       "    </tr>\n",
       "    <tr>\n",
       "      <th>4</th>\n",
       "      <td>Cinderella</td>\n",
       "      <td>1950-02-15</td>\n",
       "      <td>Drama</td>\n",
       "      <td>G</td>\n",
       "      <td>85000000</td>\n",
       "      <td>920608730</td>\n",
       "    </tr>\n",
       "    <tr>\n",
       "      <th>5</th>\n",
       "      <td>20,000 Leagues Under the Sea</td>\n",
       "      <td>1954-12-23</td>\n",
       "      <td>Adventure</td>\n",
       "      <td>NaN</td>\n",
       "      <td>28200000</td>\n",
       "      <td>528279994</td>\n",
       "    </tr>\n",
       "    <tr>\n",
       "      <th>6</th>\n",
       "      <td>Lady and the Tramp</td>\n",
       "      <td>1955-06-22</td>\n",
       "      <td>Drama</td>\n",
       "      <td>G</td>\n",
       "      <td>93600000</td>\n",
       "      <td>1236035515</td>\n",
       "    </tr>\n",
       "    <tr>\n",
       "      <th>7</th>\n",
       "      <td>Sleeping Beauty</td>\n",
       "      <td>1959-01-29</td>\n",
       "      <td>Drama</td>\n",
       "      <td>NaN</td>\n",
       "      <td>9464608</td>\n",
       "      <td>21505832</td>\n",
       "    </tr>\n",
       "    <tr>\n",
       "      <th>8</th>\n",
       "      <td>101 Dalmatians</td>\n",
       "      <td>1961-01-25</td>\n",
       "      <td>Comedy</td>\n",
       "      <td>G</td>\n",
       "      <td>153000000</td>\n",
       "      <td>1362870985</td>\n",
       "    </tr>\n",
       "    <tr>\n",
       "      <th>9</th>\n",
       "      <td>The Absent Minded Professor</td>\n",
       "      <td>1961-03-16</td>\n",
       "      <td>Comedy</td>\n",
       "      <td>NaN</td>\n",
       "      <td>25381407</td>\n",
       "      <td>310094574</td>\n",
       "    </tr>\n",
       "  </tbody>\n",
       "</table>\n",
       "</div>"
      ],
      "text/plain": [
       "                       movie_title release_date      genre mpaa_rating  \\\n",
       "0  Snow White and the Seven Dwarfs   1937-12-21    Musical           G   \n",
       "1                        Pinocchio   1940-02-09  Adventure           G   \n",
       "2                         Fantasia   1940-11-13    Musical           G   \n",
       "3                Song of the South   1946-11-12  Adventure           G   \n",
       "4                       Cinderella   1950-02-15      Drama           G   \n",
       "5     20,000 Leagues Under the Sea   1954-12-23  Adventure         NaN   \n",
       "6               Lady and the Tramp   1955-06-22      Drama           G   \n",
       "7                  Sleeping Beauty   1959-01-29      Drama         NaN   \n",
       "8                   101 Dalmatians   1961-01-25     Comedy           G   \n",
       "9      The Absent Minded Professor   1961-03-16     Comedy         NaN   \n",
       "\n",
       "   total_gross  inflation_adjusted_gross  \n",
       "0    184925485                5228953251  \n",
       "1     84300000                2188229052  \n",
       "2     83320000                2187090808  \n",
       "3     65000000                1078510579  \n",
       "4     85000000                 920608730  \n",
       "5     28200000                 528279994  \n",
       "6     93600000                1236035515  \n",
       "7      9464608                  21505832  \n",
       "8    153000000                1362870985  \n",
       "9     25381407                 310094574  "
      ]
     },
     "execution_count": 63,
     "metadata": {},
     "output_type": "execute_result"
    }
   ],
   "source": [
    "https://www.kaggle.com/datasets/jimschacko/airlines-dataset-to-predict-a-delay\n",
    "    \n",
    "Проверка гипотезы: чем больше расстояние между аэропортами вылета и прилёта - тем более вероятна задержка рейса.\n"
   ]
  }
 ],
 "metadata": {
  "kernelspec": {
   "display_name": "Python 3 (ipykernel)",
   "language": "python",
   "name": "python3"
  },
  "language_info": {
   "codemirror_mode": {
    "name": "ipython",
    "version": 3
   },
   "file_extension": ".py",
   "mimetype": "text/x-python",
   "name": "python",
   "nbconvert_exporter": "python",
   "pygments_lexer": "ipython3",
   "version": "3.9.12"
  }
 },
 "nbformat": 4,
 "nbformat_minor": 5
}
